{
 "cells": [
  {
   "cell_type": "markdown",
   "id": "e5d57859",
   "metadata": {},
   "source": []
  },
  {
   "cell_type": "markdown",
   "id": "eb3f28eb",
   "metadata": {},
   "source": [
    "```\n",
    "source /home/maksim/develops/python/env1/bin/activate    # активация окружения\n",
    "\n",
    "cd /home/maksim/develops/python/develops_test/autorized/   # Переход в папку проекта\n",
    "\n",
    "\n",
    "\n",
    "\n",
    "\n",
    "sudo -u postgres psql\n",
    "\n",
    "# Миграции\n",
    "python manage.py makemigrations   \n",
    "python manage.py migrate           \n",
    "\n",
    "\n",
    "python manage.py runserver    # Запуск сервера\n",
    "\n",
    "\n",
    "```"
   ]
  },
  {
   "cell_type": "code",
   "execution_count": 2,
   "id": "d0537ee1",
   "metadata": {},
   "outputs": [
    {
     "name": "stdout",
     "output_type": "stream",
     "text": [
      "Collecting psycopg2-binary\n",
      "  Downloading psycopg2_binary-2.9.10-cp312-cp312-manylinux_2_17_x86_64.manylinux2014_x86_64.whl.metadata (4.9 kB)\n",
      "Downloading psycopg2_binary-2.9.10-cp312-cp312-manylinux_2_17_x86_64.manylinux2014_x86_64.whl (3.0 MB)\n",
      "\u001b[2K   \u001b[90m━━━━━━━━━━━━━━━━━━━━━━━━━━━━━━━━━━━━━━━━\u001b[0m \u001b[32m3.0/3.0 MB\u001b[0m \u001b[31m42.4 kB/s\u001b[0m  \u001b[33m0:01:25\u001b[0m eta \u001b[36m0:00:04\u001b[0m\n",
      "\u001b[?25hInstalling collected packages: psycopg2-binary\n",
      "Successfully installed psycopg2-binary-2.9.10\n"
     ]
    }
   ],
   "source": [
    "!pip install psycopg2-binary\n",
    "\n"
   ]
  },
  {
   "cell_type": "code",
   "execution_count": 1,
   "id": "a2c73c75",
   "metadata": {},
   "outputs": [
    {
     "name": "stdout",
     "output_type": "stream",
     "text": [
      "No changes detected\n"
     ]
    }
   ],
   "source": [
    "!python manage.py makemigrations\n",
    "\n"
   ]
  },
  {
   "cell_type": "code",
   "execution_count": 2,
   "id": "53700c81",
   "metadata": {},
   "outputs": [
    {
     "name": "stdout",
     "output_type": "stream",
     "text": [
      "\u001b[36;1mOperations to perform:\u001b[0m\n",
      "\u001b[1m  Apply all migrations: \u001b[0madmin, auth, contenttypes, sessions\n",
      "\u001b[36;1mRunning migrations:\u001b[0m\n",
      "  Applying admin.0001_initial...Traceback (most recent call last):\n",
      "  File \"/home/maksim/develops/python/env1/lib/python3.12/site-packages/django/db/backends/utils.py\", line 103, in _execute\n",
      "    return self.cursor.execute(sql)\n",
      "           ^^^^^^^^^^^^^^^^^^^^^^^^\n",
      "psycopg2.errors.UndefinedTable: relation \"app_user\" does not exist\n",
      "\n",
      "\n",
      "The above exception was the direct cause of the following exception:\n",
      "\n",
      "Traceback (most recent call last):\n",
      "  File \"/home/maksim/develops/python/develops_test/autorized/manage.py\", line 19, in <module>\n",
      "    main()\n",
      "  File \"/home/maksim/develops/python/develops_test/autorized/manage.py\", line 16, in main\n",
      "    execute_from_command_line(sys.argv)\n",
      "  File \"/home/maksim/develops/python/env1/lib/python3.12/site-packages/django/core/management/__init__.py\", line 442, in execute_from_command_line\n",
      "    utility.execute()\n",
      "  File \"/home/maksim/develops/python/env1/lib/python3.12/site-packages/django/core/management/__init__.py\", line 436, in execute\n",
      "    self.fetch_command(subcommand).run_from_argv(self.argv)\n",
      "  File \"/home/maksim/develops/python/env1/lib/python3.12/site-packages/django/core/management/base.py\", line 416, in run_from_argv\n",
      "    self.execute(*args, **cmd_options)\n",
      "  File \"/home/maksim/develops/python/env1/lib/python3.12/site-packages/django/core/management/base.py\", line 460, in execute\n",
      "    output = self.handle(*args, **options)\n",
      "             ^^^^^^^^^^^^^^^^^^^^^^^^^^^^^\n",
      "  File \"/home/maksim/develops/python/env1/lib/python3.12/site-packages/django/core/management/base.py\", line 107, in wrapper\n",
      "    res = handle_func(*args, **kwargs)\n",
      "          ^^^^^^^^^^^^^^^^^^^^^^^^^^^^\n",
      "  File \"/home/maksim/develops/python/env1/lib/python3.12/site-packages/django/core/management/commands/migrate.py\", line 353, in handle\n",
      "    post_migrate_state = executor.migrate(\n",
      "                         ^^^^^^^^^^^^^^^^^\n",
      "  File \"/home/maksim/develops/python/env1/lib/python3.12/site-packages/django/db/migrations/executor.py\", line 135, in migrate\n",
      "    state = self._migrate_all_forwards(\n",
      "            ^^^^^^^^^^^^^^^^^^^^^^^^^^^\n",
      "  File \"/home/maksim/develops/python/env1/lib/python3.12/site-packages/django/db/migrations/executor.py\", line 167, in _migrate_all_forwards\n",
      "    state = self.apply_migration(\n",
      "            ^^^^^^^^^^^^^^^^^^^^^\n",
      "  File \"/home/maksim/develops/python/env1/lib/python3.12/site-packages/django/db/migrations/executor.py\", line 252, in apply_migration\n",
      "    with self.connection.schema_editor(\n",
      "  File \"/home/maksim/develops/python/env1/lib/python3.12/site-packages/django/db/backends/base/schema.py\", line 169, in __exit__\n",
      "    self.execute(sql, None)\n",
      "  File \"/home/maksim/develops/python/env1/lib/python3.12/site-packages/django/db/backends/postgresql/schema.py\", line 45, in execute\n",
      "    return super().execute(sql, params)\n",
      "           ^^^^^^^^^^^^^^^^^^^^^^^^^^^^\n",
      "  File \"/home/maksim/develops/python/env1/lib/python3.12/site-packages/django/db/backends/base/schema.py\", line 204, in execute\n",
      "    cursor.execute(sql, params)\n",
      "  File \"/home/maksim/develops/python/env1/lib/python3.12/site-packages/django/db/backends/utils.py\", line 122, in execute\n",
      "    return super().execute(sql, params)\n",
      "           ^^^^^^^^^^^^^^^^^^^^^^^^^^^^\n",
      "  File \"/home/maksim/develops/python/env1/lib/python3.12/site-packages/django/db/backends/utils.py\", line 79, in execute\n",
      "    return self._execute_with_wrappers(\n",
      "           ^^^^^^^^^^^^^^^^^^^^^^^^^^^^\n",
      "  File \"/home/maksim/develops/python/env1/lib/python3.12/site-packages/django/db/backends/utils.py\", line 92, in _execute_with_wrappers\n",
      "    return executor(sql, params, many, context)\n",
      "           ^^^^^^^^^^^^^^^^^^^^^^^^^^^^^^^^^^^^\n",
      "  File \"/home/maksim/develops/python/env1/lib/python3.12/site-packages/django/db/backends/utils.py\", line 100, in _execute\n",
      "    with self.db.wrap_database_errors:\n",
      "  File \"/home/maksim/develops/python/env1/lib/python3.12/site-packages/django/db/utils.py\", line 91, in __exit__\n",
      "    raise dj_exc_value.with_traceback(traceback) from exc_value\n",
      "  File \"/home/maksim/develops/python/env1/lib/python3.12/site-packages/django/db/backends/utils.py\", line 103, in _execute\n",
      "    return self.cursor.execute(sql)\n",
      "           ^^^^^^^^^^^^^^^^^^^^^^^^\n",
      "django.db.utils.ProgrammingError: relation \"app_user\" does not exist\n",
      "\n"
     ]
    }
   ],
   "source": [
    "!python manage.py migrate"
   ]
  },
  {
   "cell_type": "code",
   "execution_count": null,
   "id": "18f06bd4",
   "metadata": {},
   "outputs": [
    {
     "name": "stdout",
     "output_type": "stream",
     "text": [
      "Collecting PyJWT\n",
      "  Downloading PyJWT-2.10.1-py3-none-any.whl.metadata (4.0 kB)\n",
      "Downloading PyJWT-2.10.1-py3-none-any.whl (22 kB)\n",
      "Installing collected packages: PyJWT\n",
      "Successfully installed PyJWT-2.10.1\n"
     ]
    }
   ],
   "source": [
    "!pip install django djangorestframework bcrypt PyJWT psycopg2-binary\n",
    "\n"
   ]
  },
  {
   "cell_type": "code",
   "execution_count": 1,
   "id": "fe152acc",
   "metadata": {},
   "outputs": [],
   "source": [
    "# !python manage.py createsuperuser\n"
   ]
  },
  {
   "cell_type": "code",
   "execution_count": 7,
   "id": "755b5876",
   "metadata": {},
   "outputs": [
    {
     "name": "stdout",
     "output_type": "stream",
     "text": [
      "i1ojtv6m^&xz96xs^kta8pno+le%rpfre@#t(8*&tuua4co_ff\n"
     ]
    }
   ],
   "source": [
    "# Секретный ключ\n",
    "from django.core.management.utils import get_random_secret_key\n",
    "print(get_random_secret_key())\n"
   ]
  },
  {
   "cell_type": "code",
   "execution_count": null,
   "id": "3de9133c",
   "metadata": {},
   "outputs": [],
   "source": []
  },
  {
   "cell_type": "markdown",
   "id": "0ddc8132",
   "metadata": {},
   "source": [
    "```sh \n",
    "\n",
    "project/  \n",
    "│\n",
    "├── app/\n",
    "│   ├── views/\n",
    "│   │   │   __init__.py\n",
    "│   │   │   auth.py          # регистрация, вход, выход\n",
    "│   │   │   profile.py       # профиль пользователя\n",
    "│   │   │   roles.py         # управление ролями и правами\n",
    "│   │   │   resources.py     # бизнес-ресурсы (Mock API)\n",
    "│   │   │   home.py          # главная страница и простые представления\n",
    "│   │ \n",
    "│   ├── templates/\n",
    "│   │    │\n",
    "│   │    │\n",
    "│   │    │\n",
    "│   │\n",
    "│   ├── static/\n",
    "│   │   │\n",
    "│   │   │\n",
    "│   │ \n",
    "│   ├── migrations/\n",
    "│   │   │\n",
    "│   │   │\n",
    "│   │\n",
    "│   ├── models.py         # модели БД\n",
    "│   ├── serializers.py    # сериализаторы\n",
    "│   ├── authentication.py # кастомный аутентификатор\n",
    "│   ├── permissions.py    # кастомные пермишены\n",
    "│   ├── views.py          # вьюхи API\n",
    "│   ├── urls.py           # маршруты\n",
    "│   └── utils.py          # хэширование паролей    \n",
    "│\n",
    "├── project/\n",
    "│   ├── settings.py\n",
    "│   ├── urls.py\n",
    "│\n",
    "└── manage.py\n",
    "\n",
    "\n",
    "```"
   ]
  }
 ],
 "metadata": {
  "kernelspec": {
   "display_name": "env1",
   "language": "python",
   "name": "python3"
  },
  "language_info": {
   "codemirror_mode": {
    "name": "ipython",
    "version": 3
   },
   "file_extension": ".py",
   "mimetype": "text/x-python",
   "name": "python",
   "nbconvert_exporter": "python",
   "pygments_lexer": "ipython3",
   "version": "3.12.3"
  }
 },
 "nbformat": 4,
 "nbformat_minor": 5
}
